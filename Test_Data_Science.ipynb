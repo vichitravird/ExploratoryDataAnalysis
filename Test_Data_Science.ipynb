{
 "cells": [
  {
   "cell_type": "code",
   "execution_count": 1,
   "id": "e6675f5c",
   "metadata": {},
   "outputs": [],
   "source": [
    "import pandas as pd\n",
    "from pandasql import sqldf\n",
    "\n"
   ]
  },
  {
   "cell_type": "markdown",
   "id": "90f123cf",
   "metadata": {},
   "source": [
    "# Part 0"
   ]
  },
  {
   "cell_type": "code",
   "execution_count": 2,
   "id": "e63f7a83",
   "metadata": {},
   "outputs": [],
   "source": [
    "ds_df = pd.read_excel('Fytlyff_DS_Interview.xlsx')"
   ]
  },
  {
   "cell_type": "code",
   "execution_count": 3,
   "id": "ad0831c6",
   "metadata": {},
   "outputs": [
    {
     "data": {
      "text/plain": [
       "Year                   int64\n",
       "Month                 object\n",
       "Laptop/Desktop        object\n",
       "Type_of_Customers     object\n",
       "Coming from           object\n",
       "Place_in_India        object\n",
       "Level 1              float64\n",
       "Level 2              float64\n",
       "Level 3                int64\n",
       "Level 4                int64\n",
       "dtype: object"
      ]
     },
     "execution_count": 3,
     "metadata": {},
     "output_type": "execute_result"
    }
   ],
   "source": [
    "ds_df.dtypes"
   ]
  },
  {
   "cell_type": "code",
   "execution_count": 4,
   "id": "c7239750",
   "metadata": {},
   "outputs": [
    {
     "data": {
      "text/plain": [
       "array(['Bengaluru', 'Hyderabad', 'Dehradun', 'Indore', 'Pune'],\n",
       "      dtype=object)"
      ]
     },
     "execution_count": 4,
     "metadata": {},
     "output_type": "execute_result"
    }
   ],
   "source": [
    "ds_df.Place_in_India.unique()"
   ]
  },
  {
   "cell_type": "code",
   "execution_count": 5,
   "id": "091f2ac8",
   "metadata": {},
   "outputs": [
    {
     "data": {
      "text/plain": [
       "Year                    0\n",
       "Month                   0\n",
       "Laptop/Desktop          0\n",
       "Type_of_Customers       0\n",
       "Coming from             0\n",
       "Place_in_India          0\n",
       "Level 1              1079\n",
       "Level 2              1079\n",
       "Level 3                 0\n",
       "Level 4                 0\n",
       "dtype: int64"
      ]
     },
     "execution_count": 5,
     "metadata": {},
     "output_type": "execute_result"
    }
   ],
   "source": [
    "ds_df.isna().sum()"
   ]
  },
  {
   "cell_type": "code",
   "execution_count": 6,
   "id": "e0a95fb5",
   "metadata": {},
   "outputs": [
    {
     "data": {
      "text/plain": [
       "Index(['Level 1', 'Level 2'], dtype='object')"
      ]
     },
     "execution_count": 6,
     "metadata": {},
     "output_type": "execute_result"
    }
   ],
   "source": [
    "ds_df.columns[ds_df.isnull().any()]"
   ]
  },
  {
   "cell_type": "code",
   "execution_count": 7,
   "id": "530bcc67",
   "metadata": {},
   "outputs": [
    {
     "data": {
      "text/plain": [
       "(72, 10)"
      ]
     },
     "execution_count": 7,
     "metadata": {},
     "output_type": "execute_result"
    }
   ],
   "source": [
    "ds_df[(ds_df['Place_in_India']=='Pune') & (ds_df['Coming from']=='Came_From_LinkedIn') & (ds_df['Type_of_Customers']=='New_Customer')].shape"
   ]
  },
  {
   "cell_type": "markdown",
   "id": "848d7e05",
   "metadata": {},
   "source": [
    "# Part 1: Data cleaning"
   ]
  },
  {
   "cell_type": "code",
   "execution_count": 8,
   "id": "f4004a8f",
   "metadata": {},
   "outputs": [
    {
     "data": {
      "text/plain": [
       "Jan    180\n",
       "Feb    180\n",
       "Mar    180\n",
       "Apr    180\n",
       "May    180\n",
       "Jun    180\n",
       "Jul    180\n",
       "Aug    180\n",
       "Sep    180\n",
       "Oct    180\n",
       "Nov    180\n",
       "Dec    180\n",
       "Name: Month, dtype: int64"
      ]
     },
     "execution_count": 8,
     "metadata": {},
     "output_type": "execute_result"
    }
   ],
   "source": [
    "ds_df.Month.value_counts()"
   ]
  },
  {
   "cell_type": "code",
   "execution_count": 9,
   "id": "3ef8df26",
   "metadata": {},
   "outputs": [],
   "source": [
    "def data_cleaning(ds_df):\n",
    "    ds_df['inc/dec percentage'] = ((ds_df['Level 1']-ds_df['Level 4'])/ds_df['Level 1'])*100\n",
    "    ds_df['inc/dec percentage'].fillna(ds_df['inc/dec percentage'].mean(),inplace = True)\n",
    "    ds_df['Level 1'].fillna(ds_df['Level 1'].mean(),inplace = True)\n",
    "    ds_df['Level 2'].fillna(ds_df['Level 2'].mean(),inplace = True)\n",
    "    \n",
    "    # add dictionary for Jan feb and other months\n",
    "    ds_df.apply(lambda x : x.replace({'Jan':'January','Feb':'February','Mar':'March','Apr':'April','May':'May','Jun':'June','Jul':'July','Aug':'August','Sep':'September','Oct':'October','Nov':'November','Dec':'December'},inplace = True))\n",
    "    ds_df.apply(lambda x : x.replace({'Came_From_LinkedIn':'From LinkedIn','Landed_Directly':'Direct_traffic'},inplace = True))\n",
    "\n",
    "    return ds_df"
   ]
  },
  {
   "cell_type": "code",
   "execution_count": 10,
   "id": "10d8ffd7",
   "metadata": {},
   "outputs": [],
   "source": [
    "cleaned_df = data_cleaning(ds_df)"
   ]
  },
  {
   "cell_type": "markdown",
   "id": "ec99f2c7",
   "metadata": {},
   "source": [
    "# Part 2: Descriptive statistics"
   ]
  },
  {
   "cell_type": "code",
   "execution_count": 11,
   "id": "b11b26b2",
   "metadata": {},
   "outputs": [],
   "source": [
    "def descriptive_stats(cleaned_df,Year=2020,Month= 'January',Laptop_Desktop = 'Desktop_Website',Type_of_Customers = 'Existing_Customer',Coming_from ='From LinkedIn'):\n",
    "    min_val_all_level = cleaned_df[['Level 1', 'Level 2', 'Level 3', 'Level 4']].min().min()\n",
    "    max_val_level_1_2 = cleaned_df[cleaned_df['Laptop/Desktop']=='Desktop_Website'][['Level 1', 'Level 2']].max().max()\n",
    "    df = cleaned_df[(cleaned_df['Year']==Year)&(cleaned_df['Year']==Year)&(cleaned_df['Month']==Month)&(cleaned_df['Laptop/Desktop']==Laptop_Desktop)&(cleaned_df['Type_of_Customers']==Type_of_Customers)&(cleaned_df['Coming from']==Coming_from)]\n",
    "    num_col = [ 'Level 1', 'Level 2', 'Level 3', 'Level 4','inc/dec percentage']\n",
    "    non_numeric_col = ['Year', 'Month', 'Laptop/Desktop', 'Type_of_Customers', 'Coming from','Place_in_India']\n",
    "    df_num = df[num_col]\n",
    "    \n",
    "    unique_val_list={}\n",
    "\n",
    "    for i in non_numeric_col:\n",
    "        unique_val_list[i] = df[i].unique()\n",
    "        \n",
    "    return (min_val_all_level,max_val_level_1_2,df_num.describe(),unique_val_list)"
   ]
  },
  {
   "cell_type": "code",
   "execution_count": 12,
   "id": "e90016a7",
   "metadata": {},
   "outputs": [],
   "source": [
    "min_val_all_level,max_val_level_1_2,df_num_stats,unique_val_list = descriptive_stats(cleaned_df)"
   ]
  },
  {
   "cell_type": "markdown",
   "id": "d781bdf0",
   "metadata": {},
   "source": [
    "# Part 3: Prescriptive statistics"
   ]
  },
  {
   "cell_type": "code",
   "execution_count": null,
   "id": "d35d2b43",
   "metadata": {},
   "outputs": [],
   "source": []
  },
  {
   "cell_type": "code",
   "execution_count": 13,
   "id": "5a84b4a0",
   "metadata": {},
   "outputs": [],
   "source": [
    "cleaned_df.rename(columns = {'Level 1' : 'Level_1','Level 2' : 'Level_2','Level 3' : 'Level_3','Level 4' : 'Level_4'},inplace = True)"
   ]
  },
  {
   "cell_type": "code",
   "execution_count": 14,
   "id": "48af2170",
   "metadata": {},
   "outputs": [],
   "source": [
    "output1 = sqldf(\"SELECT Year,Rank_Level_4,Place_in_India,SUM(Level_4) OVER(PARTITION BY Year) as Sum_Level_4 FROM (select Year, DENSE_RANK() OVER(PARTITION BY Year ORDER BY Level_4 DESC) as Rank_Level_4,Place_in_India,Level_4 from cleaned_df) WHERE Rank_Level_4<4\")"
   ]
  },
  {
   "cell_type": "code",
   "execution_count": 15,
   "id": "6ea52c1e",
   "metadata": {},
   "outputs": [
    {
     "data": {
      "text/html": [
       "<div>\n",
       "<style scoped>\n",
       "    .dataframe tbody tr th:only-of-type {\n",
       "        vertical-align: middle;\n",
       "    }\n",
       "\n",
       "    .dataframe tbody tr th {\n",
       "        vertical-align: top;\n",
       "    }\n",
       "\n",
       "    .dataframe thead th {\n",
       "        text-align: right;\n",
       "    }\n",
       "</style>\n",
       "<table border=\"1\" class=\"dataframe\">\n",
       "  <thead>\n",
       "    <tr style=\"text-align: right;\">\n",
       "      <th></th>\n",
       "      <th>Year</th>\n",
       "      <th>Rank_Level_4</th>\n",
       "      <th>Place_in_India</th>\n",
       "      <th>Sum_Level_4</th>\n",
       "    </tr>\n",
       "  </thead>\n",
       "  <tbody>\n",
       "    <tr>\n",
       "      <th>0</th>\n",
       "      <td>2020</td>\n",
       "      <td>1</td>\n",
       "      <td>Indore</td>\n",
       "      <td>2571153</td>\n",
       "    </tr>\n",
       "    <tr>\n",
       "      <th>1</th>\n",
       "      <td>2020</td>\n",
       "      <td>2</td>\n",
       "      <td>Dehradun</td>\n",
       "      <td>2571153</td>\n",
       "    </tr>\n",
       "    <tr>\n",
       "      <th>2</th>\n",
       "      <td>2020</td>\n",
       "      <td>3</td>\n",
       "      <td>Indore</td>\n",
       "      <td>2571153</td>\n",
       "    </tr>\n",
       "    <tr>\n",
       "      <th>3</th>\n",
       "      <td>2021</td>\n",
       "      <td>1</td>\n",
       "      <td>Pune</td>\n",
       "      <td>1406750</td>\n",
       "    </tr>\n",
       "    <tr>\n",
       "      <th>4</th>\n",
       "      <td>2021</td>\n",
       "      <td>2</td>\n",
       "      <td>Indore</td>\n",
       "      <td>1406750</td>\n",
       "    </tr>\n",
       "    <tr>\n",
       "      <th>5</th>\n",
       "      <td>2021</td>\n",
       "      <td>3</td>\n",
       "      <td>Pune</td>\n",
       "      <td>1406750</td>\n",
       "    </tr>\n",
       "    <tr>\n",
       "      <th>6</th>\n",
       "      <td>2022</td>\n",
       "      <td>1</td>\n",
       "      <td>Pune</td>\n",
       "      <td>2207563</td>\n",
       "    </tr>\n",
       "    <tr>\n",
       "      <th>7</th>\n",
       "      <td>2022</td>\n",
       "      <td>2</td>\n",
       "      <td>Pune</td>\n",
       "      <td>2207563</td>\n",
       "    </tr>\n",
       "    <tr>\n",
       "      <th>8</th>\n",
       "      <td>2022</td>\n",
       "      <td>3</td>\n",
       "      <td>Bengaluru</td>\n",
       "      <td>2207563</td>\n",
       "    </tr>\n",
       "  </tbody>\n",
       "</table>\n",
       "</div>"
      ],
      "text/plain": [
       "   Year  Rank_Level_4 Place_in_India  Sum_Level_4\n",
       "0  2020             1         Indore      2571153\n",
       "1  2020             2       Dehradun      2571153\n",
       "2  2020             3         Indore      2571153\n",
       "3  2021             1           Pune      1406750\n",
       "4  2021             2         Indore      1406750\n",
       "5  2021             3           Pune      1406750\n",
       "6  2022             1           Pune      2207563\n",
       "7  2022             2           Pune      2207563\n",
       "8  2022             3      Bengaluru      2207563"
      ]
     },
     "execution_count": 15,
     "metadata": {},
     "output_type": "execute_result"
    }
   ],
   "source": [
    "output1"
   ]
  },
  {
   "cell_type": "code",
   "execution_count": 16,
   "id": "eebbd127",
   "metadata": {},
   "outputs": [],
   "source": [
    "output2 = sqldf(\"SELECT Year,Place_in_India, SUM(Level_2)/SUM(Level_1) as Slevel_2bySlevel_1,SUM(Level_3)/SUM(Level_1) as Slevel_3bySlevel_1,SUM(Level_4)/SUM(Level_1) as Slevel_4bySlevel_1 from cleaned_df GROUP BY YEAR,Place_in_India\")"
   ]
  },
  {
   "cell_type": "code",
   "execution_count": 17,
   "id": "b6b6d256",
   "metadata": {},
   "outputs": [
    {
     "data": {
      "text/html": [
       "<div>\n",
       "<style scoped>\n",
       "    .dataframe tbody tr th:only-of-type {\n",
       "        vertical-align: middle;\n",
       "    }\n",
       "\n",
       "    .dataframe tbody tr th {\n",
       "        vertical-align: top;\n",
       "    }\n",
       "\n",
       "    .dataframe thead th {\n",
       "        text-align: right;\n",
       "    }\n",
       "</style>\n",
       "<table border=\"1\" class=\"dataframe\">\n",
       "  <thead>\n",
       "    <tr style=\"text-align: right;\">\n",
       "      <th></th>\n",
       "      <th>Year</th>\n",
       "      <th>Place_in_India</th>\n",
       "      <th>Slevel_2bySlevel_1</th>\n",
       "      <th>Slevel_3bySlevel_1</th>\n",
       "      <th>Slevel_4bySlevel_1</th>\n",
       "    </tr>\n",
       "  </thead>\n",
       "  <tbody>\n",
       "    <tr>\n",
       "      <th>0</th>\n",
       "      <td>2020</td>\n",
       "      <td>Bengaluru</td>\n",
       "      <td>0.488079</td>\n",
       "      <td>0.109296</td>\n",
       "      <td>0.046336</td>\n",
       "    </tr>\n",
       "    <tr>\n",
       "      <th>1</th>\n",
       "      <td>2020</td>\n",
       "      <td>Dehradun</td>\n",
       "      <td>0.483189</td>\n",
       "      <td>0.101910</td>\n",
       "      <td>0.049106</td>\n",
       "    </tr>\n",
       "    <tr>\n",
       "      <th>2</th>\n",
       "      <td>2020</td>\n",
       "      <td>Hyderabad</td>\n",
       "      <td>0.501703</td>\n",
       "      <td>0.136220</td>\n",
       "      <td>0.065812</td>\n",
       "    </tr>\n",
       "    <tr>\n",
       "      <th>4</th>\n",
       "      <td>2020</td>\n",
       "      <td>Pune</td>\n",
       "      <td>0.502248</td>\n",
       "      <td>0.266550</td>\n",
       "      <td>0.096418</td>\n",
       "    </tr>\n",
       "    <tr>\n",
       "      <th>3</th>\n",
       "      <td>2020</td>\n",
       "      <td>Indore</td>\n",
       "      <td>0.585207</td>\n",
       "      <td>0.321899</td>\n",
       "      <td>0.152649</td>\n",
       "    </tr>\n",
       "    <tr>\n",
       "      <th>6</th>\n",
       "      <td>2021</td>\n",
       "      <td>Dehradun</td>\n",
       "      <td>0.436285</td>\n",
       "      <td>0.081112</td>\n",
       "      <td>0.031764</td>\n",
       "    </tr>\n",
       "    <tr>\n",
       "      <th>5</th>\n",
       "      <td>2021</td>\n",
       "      <td>Bengaluru</td>\n",
       "      <td>0.453393</td>\n",
       "      <td>0.090450</td>\n",
       "      <td>0.042744</td>\n",
       "    </tr>\n",
       "    <tr>\n",
       "      <th>9</th>\n",
       "      <td>2021</td>\n",
       "      <td>Pune</td>\n",
       "      <td>0.363878</td>\n",
       "      <td>0.164717</td>\n",
       "      <td>0.069406</td>\n",
       "    </tr>\n",
       "    <tr>\n",
       "      <th>7</th>\n",
       "      <td>2021</td>\n",
       "      <td>Hyderabad</td>\n",
       "      <td>0.439948</td>\n",
       "      <td>0.148135</td>\n",
       "      <td>0.074894</td>\n",
       "    </tr>\n",
       "    <tr>\n",
       "      <th>8</th>\n",
       "      <td>2021</td>\n",
       "      <td>Indore</td>\n",
       "      <td>0.461700</td>\n",
       "      <td>0.258978</td>\n",
       "      <td>0.115071</td>\n",
       "    </tr>\n",
       "    <tr>\n",
       "      <th>11</th>\n",
       "      <td>2022</td>\n",
       "      <td>Dehradun</td>\n",
       "      <td>0.419564</td>\n",
       "      <td>0.102348</td>\n",
       "      <td>0.033521</td>\n",
       "    </tr>\n",
       "    <tr>\n",
       "      <th>10</th>\n",
       "      <td>2022</td>\n",
       "      <td>Bengaluru</td>\n",
       "      <td>0.441282</td>\n",
       "      <td>0.101524</td>\n",
       "      <td>0.048503</td>\n",
       "    </tr>\n",
       "    <tr>\n",
       "      <th>14</th>\n",
       "      <td>2022</td>\n",
       "      <td>Pune</td>\n",
       "      <td>0.390387</td>\n",
       "      <td>0.191877</td>\n",
       "      <td>0.059378</td>\n",
       "    </tr>\n",
       "    <tr>\n",
       "      <th>12</th>\n",
       "      <td>2022</td>\n",
       "      <td>Hyderabad</td>\n",
       "      <td>0.457508</td>\n",
       "      <td>0.206666</td>\n",
       "      <td>0.069364</td>\n",
       "    </tr>\n",
       "    <tr>\n",
       "      <th>13</th>\n",
       "      <td>2022</td>\n",
       "      <td>Indore</td>\n",
       "      <td>0.499384</td>\n",
       "      <td>0.313373</td>\n",
       "      <td>0.090095</td>\n",
       "    </tr>\n",
       "  </tbody>\n",
       "</table>\n",
       "</div>"
      ],
      "text/plain": [
       "    Year Place_in_India  Slevel_2bySlevel_1  Slevel_3bySlevel_1  \\\n",
       "0   2020      Bengaluru            0.488079            0.109296   \n",
       "1   2020       Dehradun            0.483189            0.101910   \n",
       "2   2020      Hyderabad            0.501703            0.136220   \n",
       "4   2020           Pune            0.502248            0.266550   \n",
       "3   2020         Indore            0.585207            0.321899   \n",
       "6   2021       Dehradun            0.436285            0.081112   \n",
       "5   2021      Bengaluru            0.453393            0.090450   \n",
       "9   2021           Pune            0.363878            0.164717   \n",
       "7   2021      Hyderabad            0.439948            0.148135   \n",
       "8   2021         Indore            0.461700            0.258978   \n",
       "11  2022       Dehradun            0.419564            0.102348   \n",
       "10  2022      Bengaluru            0.441282            0.101524   \n",
       "14  2022           Pune            0.390387            0.191877   \n",
       "12  2022      Hyderabad            0.457508            0.206666   \n",
       "13  2022         Indore            0.499384            0.313373   \n",
       "\n",
       "    Slevel_4bySlevel_1  \n",
       "0             0.046336  \n",
       "1             0.049106  \n",
       "2             0.065812  \n",
       "4             0.096418  \n",
       "3             0.152649  \n",
       "6             0.031764  \n",
       "5             0.042744  \n",
       "9             0.069406  \n",
       "7             0.074894  \n",
       "8             0.115071  \n",
       "11            0.033521  \n",
       "10            0.048503  \n",
       "14            0.059378  \n",
       "12            0.069364  \n",
       "13            0.090095  "
      ]
     },
     "execution_count": 17,
     "metadata": {},
     "output_type": "execute_result"
    }
   ],
   "source": [
    "output2.sort_values(['Year','Slevel_4bySlevel_1'])"
   ]
  },
  {
   "cell_type": "code",
   "execution_count": null,
   "id": "72df0643",
   "metadata": {},
   "outputs": [],
   "source": []
  },
  {
   "cell_type": "code",
   "execution_count": 18,
   "id": "1783897a",
   "metadata": {},
   "outputs": [],
   "source": [
    "output3 = sqldf(\"SELECT Place_in_India,Level_4,COUNT(Level_4) as cnt_greater_than_150k from cleaned_df WHERE Level_4>150000 GROUP BY Place_in_India ORDER BY cnt_greater_than_150k DESC\")"
   ]
  },
  {
   "cell_type": "code",
   "execution_count": 19,
   "id": "87038b50",
   "metadata": {},
   "outputs": [
    {
     "data": {
      "text/html": [
       "<div>\n",
       "<style scoped>\n",
       "    .dataframe tbody tr th:only-of-type {\n",
       "        vertical-align: middle;\n",
       "    }\n",
       "\n",
       "    .dataframe tbody tr th {\n",
       "        vertical-align: top;\n",
       "    }\n",
       "\n",
       "    .dataframe thead th {\n",
       "        text-align: right;\n",
       "    }\n",
       "</style>\n",
       "<table border=\"1\" class=\"dataframe\">\n",
       "  <thead>\n",
       "    <tr style=\"text-align: right;\">\n",
       "      <th></th>\n",
       "      <th>Place_in_India</th>\n",
       "      <th>Level_4</th>\n",
       "      <th>cnt_greater_than_150k</th>\n",
       "    </tr>\n",
       "  </thead>\n",
       "  <tbody>\n",
       "    <tr>\n",
       "      <th>0</th>\n",
       "      <td>Indore</td>\n",
       "      <td>165036</td>\n",
       "      <td>143</td>\n",
       "    </tr>\n",
       "    <tr>\n",
       "      <th>1</th>\n",
       "      <td>Pune</td>\n",
       "      <td>225823</td>\n",
       "      <td>71</td>\n",
       "    </tr>\n",
       "    <tr>\n",
       "      <th>2</th>\n",
       "      <td>Hyderabad</td>\n",
       "      <td>194965</td>\n",
       "      <td>14</td>\n",
       "    </tr>\n",
       "    <tr>\n",
       "      <th>3</th>\n",
       "      <td>Bengaluru</td>\n",
       "      <td>502226</td>\n",
       "      <td>6</td>\n",
       "    </tr>\n",
       "    <tr>\n",
       "      <th>4</th>\n",
       "      <td>Dehradun</td>\n",
       "      <td>873534</td>\n",
       "      <td>2</td>\n",
       "    </tr>\n",
       "  </tbody>\n",
       "</table>\n",
       "</div>"
      ],
      "text/plain": [
       "  Place_in_India  Level_4  cnt_greater_than_150k\n",
       "0         Indore   165036                    143\n",
       "1           Pune   225823                     71\n",
       "2      Hyderabad   194965                     14\n",
       "3      Bengaluru   502226                      6\n",
       "4       Dehradun   873534                      2"
      ]
     },
     "execution_count": 19,
     "metadata": {},
     "output_type": "execute_result"
    }
   ],
   "source": [
    "output3"
   ]
  },
  {
   "cell_type": "code",
   "execution_count": 20,
   "id": "ad5f49bc",
   "metadata": {},
   "outputs": [],
   "source": [
    "output4 = sqldf(\"SELECT Place_in_India,COUNT(Type_of_Customers) from cleaned_df WHERE Type_of_Customers='Existing_Customer' GROUP BY Place_in_India\")"
   ]
  },
  {
   "cell_type": "code",
   "execution_count": 21,
   "id": "7722209d",
   "metadata": {},
   "outputs": [
    {
     "data": {
      "text/html": [
       "<div>\n",
       "<style scoped>\n",
       "    .dataframe tbody tr th:only-of-type {\n",
       "        vertical-align: middle;\n",
       "    }\n",
       "\n",
       "    .dataframe tbody tr th {\n",
       "        vertical-align: top;\n",
       "    }\n",
       "\n",
       "    .dataframe thead th {\n",
       "        text-align: right;\n",
       "    }\n",
       "</style>\n",
       "<table border=\"1\" class=\"dataframe\">\n",
       "  <thead>\n",
       "    <tr style=\"text-align: right;\">\n",
       "      <th></th>\n",
       "      <th>Place_in_India</th>\n",
       "      <th>COUNT(Type_of_Customers)</th>\n",
       "    </tr>\n",
       "  </thead>\n",
       "  <tbody>\n",
       "    <tr>\n",
       "      <th>0</th>\n",
       "      <td>Bengaluru</td>\n",
       "      <td>216</td>\n",
       "    </tr>\n",
       "    <tr>\n",
       "      <th>1</th>\n",
       "      <td>Dehradun</td>\n",
       "      <td>216</td>\n",
       "    </tr>\n",
       "    <tr>\n",
       "      <th>2</th>\n",
       "      <td>Hyderabad</td>\n",
       "      <td>216</td>\n",
       "    </tr>\n",
       "    <tr>\n",
       "      <th>3</th>\n",
       "      <td>Indore</td>\n",
       "      <td>216</td>\n",
       "    </tr>\n",
       "    <tr>\n",
       "      <th>4</th>\n",
       "      <td>Pune</td>\n",
       "      <td>216</td>\n",
       "    </tr>\n",
       "  </tbody>\n",
       "</table>\n",
       "</div>"
      ],
      "text/plain": [
       "  Place_in_India  COUNT(Type_of_Customers)\n",
       "0      Bengaluru                       216\n",
       "1       Dehradun                       216\n",
       "2      Hyderabad                       216\n",
       "3         Indore                       216\n",
       "4           Pune                       216"
      ]
     },
     "execution_count": 21,
     "metadata": {},
     "output_type": "execute_result"
    }
   ],
   "source": [
    "output4"
   ]
  },
  {
   "cell_type": "markdown",
   "id": "f451d28b",
   "metadata": {},
   "source": [
    "# Part 4: Simple Machine learning questions\n"
   ]
  },
  {
   "cell_type": "code",
   "execution_count": 22,
   "id": "9b1d7f73",
   "metadata": {},
   "outputs": [],
   "source": [
    "cleaned_df['Date'] = pd.to_datetime(cleaned_df['Year'].astype(str)  + cleaned_df['Month'], format='%Y%B')"
   ]
  },
  {
   "cell_type": "code",
   "execution_count": 23,
   "id": "4f4d2f6d",
   "metadata": {},
   "outputs": [],
   "source": [
    "Level_4_df = cleaned_df[['Date','Level_4']]"
   ]
  },
  {
   "cell_type": "code",
   "execution_count": 24,
   "id": "19cef93e",
   "metadata": {},
   "outputs": [],
   "source": [
    "Level_4_df  = Level_4_df.groupby(['Date']).sum('Level_4')"
   ]
  },
  {
   "cell_type": "code",
   "execution_count": 25,
   "id": "e5c07027",
   "metadata": {},
   "outputs": [
    {
     "data": {
      "text/html": [
       "<div>\n",
       "<style scoped>\n",
       "    .dataframe tbody tr th:only-of-type {\n",
       "        vertical-align: middle;\n",
       "    }\n",
       "\n",
       "    .dataframe tbody tr th {\n",
       "        vertical-align: top;\n",
       "    }\n",
       "\n",
       "    .dataframe thead th {\n",
       "        text-align: right;\n",
       "    }\n",
       "</style>\n",
       "<table border=\"1\" class=\"dataframe\">\n",
       "  <thead>\n",
       "    <tr style=\"text-align: right;\">\n",
       "      <th></th>\n",
       "      <th>Level_4</th>\n",
       "    </tr>\n",
       "    <tr>\n",
       "      <th>Date</th>\n",
       "      <th></th>\n",
       "    </tr>\n",
       "  </thead>\n",
       "  <tbody>\n",
       "    <tr>\n",
       "      <th>2020-01-01</th>\n",
       "      <td>3589410</td>\n",
       "    </tr>\n",
       "    <tr>\n",
       "      <th>2020-02-01</th>\n",
       "      <td>2717346</td>\n",
       "    </tr>\n",
       "    <tr>\n",
       "      <th>2020-03-01</th>\n",
       "      <td>3322524</td>\n",
       "    </tr>\n",
       "    <tr>\n",
       "      <th>2020-04-01</th>\n",
       "      <td>3508967</td>\n",
       "    </tr>\n",
       "    <tr>\n",
       "      <th>2020-05-01</th>\n",
       "      <td>5260855</td>\n",
       "    </tr>\n",
       "    <tr>\n",
       "      <th>2020-06-01</th>\n",
       "      <td>3508606</td>\n",
       "    </tr>\n",
       "    <tr>\n",
       "      <th>2020-07-01</th>\n",
       "      <td>3744978</td>\n",
       "    </tr>\n",
       "    <tr>\n",
       "      <th>2020-08-01</th>\n",
       "      <td>3423337</td>\n",
       "    </tr>\n",
       "    <tr>\n",
       "      <th>2020-09-01</th>\n",
       "      <td>3366920</td>\n",
       "    </tr>\n",
       "    <tr>\n",
       "      <th>2020-10-01</th>\n",
       "      <td>3570374</td>\n",
       "    </tr>\n",
       "    <tr>\n",
       "      <th>2020-11-01</th>\n",
       "      <td>3544377</td>\n",
       "    </tr>\n",
       "    <tr>\n",
       "      <th>2020-12-01</th>\n",
       "      <td>3647694</td>\n",
       "    </tr>\n",
       "    <tr>\n",
       "      <th>2021-01-01</th>\n",
       "      <td>3336560</td>\n",
       "    </tr>\n",
       "    <tr>\n",
       "      <th>2021-02-01</th>\n",
       "      <td>3255139</td>\n",
       "    </tr>\n",
       "    <tr>\n",
       "      <th>2021-03-01</th>\n",
       "      <td>3807317</td>\n",
       "    </tr>\n",
       "    <tr>\n",
       "      <th>2021-04-01</th>\n",
       "      <td>5180904</td>\n",
       "    </tr>\n",
       "    <tr>\n",
       "      <th>2021-05-01</th>\n",
       "      <td>5397092</td>\n",
       "    </tr>\n",
       "    <tr>\n",
       "      <th>2021-06-01</th>\n",
       "      <td>3984659</td>\n",
       "    </tr>\n",
       "    <tr>\n",
       "      <th>2021-07-01</th>\n",
       "      <td>3570058</td>\n",
       "    </tr>\n",
       "    <tr>\n",
       "      <th>2021-08-01</th>\n",
       "      <td>2817526</td>\n",
       "    </tr>\n",
       "    <tr>\n",
       "      <th>2021-09-01</th>\n",
       "      <td>3143861</td>\n",
       "    </tr>\n",
       "    <tr>\n",
       "      <th>2021-10-01</th>\n",
       "      <td>3707985</td>\n",
       "    </tr>\n",
       "    <tr>\n",
       "      <th>2021-11-01</th>\n",
       "      <td>3056274</td>\n",
       "    </tr>\n",
       "    <tr>\n",
       "      <th>2021-12-01</th>\n",
       "      <td>2503590</td>\n",
       "    </tr>\n",
       "    <tr>\n",
       "      <th>2022-01-01</th>\n",
       "      <td>2505028</td>\n",
       "    </tr>\n",
       "    <tr>\n",
       "      <th>2022-02-01</th>\n",
       "      <td>2527958</td>\n",
       "    </tr>\n",
       "    <tr>\n",
       "      <th>2022-03-01</th>\n",
       "      <td>3191579</td>\n",
       "    </tr>\n",
       "    <tr>\n",
       "      <th>2022-04-01</th>\n",
       "      <td>2929724</td>\n",
       "    </tr>\n",
       "    <tr>\n",
       "      <th>2022-05-01</th>\n",
       "      <td>3070586</td>\n",
       "    </tr>\n",
       "    <tr>\n",
       "      <th>2022-06-01</th>\n",
       "      <td>3910539</td>\n",
       "    </tr>\n",
       "    <tr>\n",
       "      <th>2022-07-01</th>\n",
       "      <td>3485091</td>\n",
       "    </tr>\n",
       "    <tr>\n",
       "      <th>2022-08-01</th>\n",
       "      <td>3959670</td>\n",
       "    </tr>\n",
       "    <tr>\n",
       "      <th>2022-09-01</th>\n",
       "      <td>3434896</td>\n",
       "    </tr>\n",
       "    <tr>\n",
       "      <th>2022-10-01</th>\n",
       "      <td>3673751</td>\n",
       "    </tr>\n",
       "    <tr>\n",
       "      <th>2022-11-01</th>\n",
       "      <td>4072884</td>\n",
       "    </tr>\n",
       "    <tr>\n",
       "      <th>2022-12-01</th>\n",
       "      <td>4189930</td>\n",
       "    </tr>\n",
       "  </tbody>\n",
       "</table>\n",
       "</div>"
      ],
      "text/plain": [
       "            Level_4\n",
       "Date               \n",
       "2020-01-01  3589410\n",
       "2020-02-01  2717346\n",
       "2020-03-01  3322524\n",
       "2020-04-01  3508967\n",
       "2020-05-01  5260855\n",
       "2020-06-01  3508606\n",
       "2020-07-01  3744978\n",
       "2020-08-01  3423337\n",
       "2020-09-01  3366920\n",
       "2020-10-01  3570374\n",
       "2020-11-01  3544377\n",
       "2020-12-01  3647694\n",
       "2021-01-01  3336560\n",
       "2021-02-01  3255139\n",
       "2021-03-01  3807317\n",
       "2021-04-01  5180904\n",
       "2021-05-01  5397092\n",
       "2021-06-01  3984659\n",
       "2021-07-01  3570058\n",
       "2021-08-01  2817526\n",
       "2021-09-01  3143861\n",
       "2021-10-01  3707985\n",
       "2021-11-01  3056274\n",
       "2021-12-01  2503590\n",
       "2022-01-01  2505028\n",
       "2022-02-01  2527958\n",
       "2022-03-01  3191579\n",
       "2022-04-01  2929724\n",
       "2022-05-01  3070586\n",
       "2022-06-01  3910539\n",
       "2022-07-01  3485091\n",
       "2022-08-01  3959670\n",
       "2022-09-01  3434896\n",
       "2022-10-01  3673751\n",
       "2022-11-01  4072884\n",
       "2022-12-01  4189930"
      ]
     },
     "execution_count": 25,
     "metadata": {},
     "output_type": "execute_result"
    }
   ],
   "source": [
    "Level_4_df"
   ]
  },
  {
   "cell_type": "code",
   "execution_count": 26,
   "id": "fccca9f7",
   "metadata": {},
   "outputs": [
    {
     "data": {
      "text/plain": [
       "<AxesSubplot:xlabel='Date'>"
      ]
     },
     "execution_count": 26,
     "metadata": {},
     "output_type": "execute_result"
    },
    {
     "data": {
      "image/png": "[encoded data removed]",
      "text/plain": [
       "<Figure size 432x288 with 1 Axes>"
      ]
     },
     "metadata": {
      "needs_background": "light"
     },
     "output_type": "display_data"
    }
   ],
   "source": [
    "\n",
    "Level_4_df['Level_4'].plot()"
   ]
  },
  {
   "cell_type": "code",
   "execution_count": 27,
   "id": "db6c5a43",
   "metadata": {},
   "outputs": [
    {
     "name": "stderr",
     "output_type": "stream",
     "text": [
      "C:\\ProgramData\\Anaconda3\\lib\\site-packages\\statsmodels\\tsa\\arima_model.py:472: FutureWarning: \n",
      "statsmodels.tsa.arima_model.ARMA and statsmodels.tsa.arima_model.ARIMA have\n",
      "been deprecated in favor of statsmodels.tsa.arima.model.ARIMA (note the .\n",
      "between arima and model) and\n",
      "statsmodels.tsa.SARIMAX. These will be removed after the 0.12 release.\n",
      "\n",
      "statsmodels.tsa.arima.model.ARIMA makes use of the statespace framework and\n",
      "is both well tested and maintained.\n",
      "\n",
      "To silence this warning and continue using ARMA and ARIMA until they are\n",
      "removed, use:\n",
      "\n",
      "import warnings\n",
      "warnings.filterwarnings('ignore', 'statsmodels.tsa.arima_model.ARMA',\n",
      "                        FutureWarning)\n",
      "warnings.filterwarnings('ignore', 'statsmodels.tsa.arima_model.ARIMA',\n",
      "                        FutureWarning)\n",
      "\n",
      "  warnings.warn(ARIMA_DEPRECATION_WARN, FutureWarning)\n",
      "C:\\ProgramData\\Anaconda3\\lib\\site-packages\\statsmodels\\tsa\\base\\tsa_model.py:524: ValueWarning: No frequency information was provided, so inferred frequency MS will be used.\n",
      "  warnings.warn('No frequency information was'\n"
     ]
    },
    {
     "data": {
      "text/html": [
       "<table class=\"simpletable\">\n",
       "<caption>ARMA Model Results</caption>\n",
       "<tr>\n",
       "  <th>Dep. Variable:</th>      <td>Level_4</td>     <th>  No. Observations:  </th>     <td>36</td>    \n",
       "</tr>\n",
       "<tr>\n",
       "  <th>Model:</th>            <td>ARMA(0, 2)</td>    <th>  Log Likelihood     </th>  <td>-527.315</td> \n",
       "</tr>\n",
       "<tr>\n",
       "  <th>Method:</th>             <td>css-mle</td>     <th>  S.D. of innovations</th> <td>549683.148</td>\n",
       "</tr>\n",
       "<tr>\n",
       "  <th>Date:</th>          <td>Thu, 29 Dec 2022</td> <th>  AIC                </th>  <td>1062.630</td> \n",
       "</tr>\n",
       "<tr>\n",
       "  <th>Time:</th>              <td>13:20:42</td>     <th>  BIC                </th>  <td>1068.964</td> \n",
       "</tr>\n",
       "<tr>\n",
       "  <th>Sample:</th>           <td>01-01-2020</td>    <th>  HQIC               </th>  <td>1064.840</td> \n",
       "</tr>\n",
       "<tr>\n",
       "  <th></th>                 <td>- 12-01-2022</td>   <th>                     </th>      <td> </td>    \n",
       "</tr>\n",
       "</table>\n",
       "<table class=\"simpletable\">\n",
       "<tr>\n",
       "        <td></td>           <th>coef</th>     <th>std err</th>      <th>z</th>      <th>P>|z|</th>  <th>[0.025</th>    <th>0.975]</th>  \n",
       "</tr>\n",
       "<tr>\n",
       "  <th>const</th>         <td> 3.553e+06</td> <td>  1.9e+05</td> <td>   18.725</td> <td> 0.000</td> <td> 3.18e+06</td> <td> 3.93e+06</td>\n",
       "</tr>\n",
       "<tr>\n",
       "  <th>ma.L1.Level_4</th> <td>    0.5717</td> <td>    0.131</td> <td>    4.378</td> <td> 0.000</td> <td>    0.316</td> <td>    0.828</td>\n",
       "</tr>\n",
       "<tr>\n",
       "  <th>ma.L2.Level_4</th> <td>    0.5390</td> <td>    0.260</td> <td>    2.070</td> <td> 0.038</td> <td>    0.029</td> <td>    1.049</td>\n",
       "</tr>\n",
       "</table>\n",
       "<table class=\"simpletable\">\n",
       "<caption>Roots</caption>\n",
       "<tr>\n",
       "    <td></td>   <th>            Real</th>  <th>         Imaginary</th> <th>         Modulus</th>  <th>        Frequency</th>\n",
       "</tr>\n",
       "<tr>\n",
       "  <th>MA.1</th> <td>          -0.5303</td> <td>          -1.2546j</td> <td>           1.3620</td> <td>          -0.3136</td>\n",
       "</tr>\n",
       "<tr>\n",
       "  <th>MA.2</th> <td>          -0.5303</td> <td>          +1.2546j</td> <td>           1.3620</td> <td>           0.3136</td>\n",
       "</tr>\n",
       "</table>"
      ],
      "text/plain": [
       "<class 'statsmodels.iolib.summary.Summary'>\n",
       "\"\"\"\n",
       "                              ARMA Model Results                              \n",
       "==============================================================================\n",
       "Dep. Variable:                Level_4   No. Observations:                   36\n",
       "Model:                     ARMA(0, 2)   Log Likelihood                -527.315\n",
       "Method:                       css-mle   S.D. of innovations         549683.148\n",
       "Date:                Thu, 29 Dec 2022   AIC                           1062.630\n",
       "Time:                        13:20:42   BIC                           1068.964\n",
       "Sample:                    01-01-2020   HQIC                          1064.840\n",
       "                         - 12-01-2022                                         \n",
       "=================================================================================\n",
       "                    coef    std err          z      P>|z|      [0.025      0.975]\n",
       "---------------------------------------------------------------------------------\n",
       "const          3.553e+06    1.9e+05     18.725      0.000    3.18e+06    3.93e+06\n",
       "ma.L1.Level_4     0.5717      0.131      4.378      0.000       0.316       0.828\n",
       "ma.L2.Level_4     0.5390      0.260      2.070      0.038       0.029       1.049\n",
       "                                    Roots                                    \n",
       "=============================================================================\n",
       "                  Real          Imaginary           Modulus         Frequency\n",
       "-----------------------------------------------------------------------------\n",
       "MA.1           -0.5303           -1.2546j            1.3620           -0.3136\n",
       "MA.2           -0.5303           +1.2546j            1.3620            0.3136\n",
       "-----------------------------------------------------------------------------\n",
       "\"\"\""
      ]
     },
     "execution_count": 27,
     "metadata": {},
     "output_type": "execute_result"
    }
   ],
   "source": [
    "from statsmodels.tsa.arima_model import ARIMA\n",
    "model=ARIMA(Level_4_df['Level_4'],order=(0,0,2))\n",
    "model_fit=model.fit()\n",
    "model_fit.summary()"
   ]
  },
  {
   "cell_type": "code",
   "execution_count": 28,
   "id": "b08cfee6",
   "metadata": {},
   "outputs": [],
   "source": [
    "df_predict = pd.DataFrame(model_fit.predict(start=36,end=47,dynamic=True),columns = ['forecast'])"
   ]
  },
  {
   "cell_type": "code",
   "execution_count": 29,
   "id": "0863490a",
   "metadata": {},
   "outputs": [
    {
     "data": {
      "text/html": [
       "<div>\n",
       "<style scoped>\n",
       "    .dataframe tbody tr th:only-of-type {\n",
       "        vertical-align: middle;\n",
       "    }\n",
       "\n",
       "    .dataframe tbody tr th {\n",
       "        vertical-align: top;\n",
       "    }\n",
       "\n",
       "    .dataframe thead th {\n",
       "        text-align: right;\n",
       "    }\n",
       "</style>\n",
       "<table border=\"1\" class=\"dataframe\">\n",
       "  <thead>\n",
       "    <tr style=\"text-align: right;\">\n",
       "      <th></th>\n",
       "      <th>forecast</th>\n",
       "    </tr>\n",
       "  </thead>\n",
       "  <tbody>\n",
       "    <tr>\n",
       "      <th>2023-01-01</th>\n",
       "      <td>4.018212e+06</td>\n",
       "    </tr>\n",
       "    <tr>\n",
       "      <th>2023-02-01</th>\n",
       "      <td>3.721582e+06</td>\n",
       "    </tr>\n",
       "    <tr>\n",
       "      <th>2023-03-01</th>\n",
       "      <td>3.553277e+06</td>\n",
       "    </tr>\n",
       "    <tr>\n",
       "      <th>2023-04-01</th>\n",
       "      <td>3.553277e+06</td>\n",
       "    </tr>\n",
       "    <tr>\n",
       "      <th>2023-05-01</th>\n",
       "      <td>3.553277e+06</td>\n",
       "    </tr>\n",
       "    <tr>\n",
       "      <th>2023-06-01</th>\n",
       "      <td>3.553277e+06</td>\n",
       "    </tr>\n",
       "    <tr>\n",
       "      <th>2023-07-01</th>\n",
       "      <td>3.553277e+06</td>\n",
       "    </tr>\n",
       "    <tr>\n",
       "      <th>2023-08-01</th>\n",
       "      <td>3.553277e+06</td>\n",
       "    </tr>\n",
       "    <tr>\n",
       "      <th>2023-09-01</th>\n",
       "      <td>3.553277e+06</td>\n",
       "    </tr>\n",
       "    <tr>\n",
       "      <th>2023-10-01</th>\n",
       "      <td>3.553277e+06</td>\n",
       "    </tr>\n",
       "    <tr>\n",
       "      <th>2023-11-01</th>\n",
       "      <td>3.553277e+06</td>\n",
       "    </tr>\n",
       "    <tr>\n",
       "      <th>2023-12-01</th>\n",
       "      <td>3.553277e+06</td>\n",
       "    </tr>\n",
       "  </tbody>\n",
       "</table>\n",
       "</div>"
      ],
      "text/plain": [
       "                forecast\n",
       "2023-01-01  4.018212e+06\n",
       "2023-02-01  3.721582e+06\n",
       "2023-03-01  3.553277e+06\n",
       "2023-04-01  3.553277e+06\n",
       "2023-05-01  3.553277e+06\n",
       "2023-06-01  3.553277e+06\n",
       "2023-07-01  3.553277e+06\n",
       "2023-08-01  3.553277e+06\n",
       "2023-09-01  3.553277e+06\n",
       "2023-10-01  3.553277e+06\n",
       "2023-11-01  3.553277e+06\n",
       "2023-12-01  3.553277e+06"
      ]
     },
     "execution_count": 29,
     "metadata": {},
     "output_type": "execute_result"
    }
   ],
   "source": [
    "df_predict"
   ]
  },
  {
   "cell_type": "code",
   "execution_count": 30,
   "id": "b7955350",
   "metadata": {},
   "outputs": [
    {
     "data": {
      "text/plain": [
       "[<matplotlib.lines.Line2D at 0x1f7c4ab98b0>]"
      ]
     },
     "execution_count": 30,
     "metadata": {},
     "output_type": "execute_result"
    },
    {
     "data": {
      "image/png": "[encoded data removed]",
      "text/plain": [
       "<Figure size 432x288 with 1 Axes>"
      ]
     },
     "metadata": {
      "needs_background": "light"
     },
     "output_type": "display_data"
    }
   ],
   "source": [
    "from matplotlib import pyplot as plt\n",
    "plt.plot(Level_4_df)\n",
    "plt.plot(df_predict)"
   ]
  },
  {
   "cell_type": "code",
   "execution_count": null,
   "id": "9f2697f9",
   "metadata": {},
   "outputs": [],
   "source": []
  },
  {
   "cell_type": "code",
   "execution_count": 31,
   "id": "852e13c7",
   "metadata": {},
   "outputs": [],
   "source": [
    "df_test = cleaned_df.groupby(['Year','Place_in_India'])['Level_4'].sum().reset_index()"
   ]
  },
  {
   "cell_type": "code",
   "execution_count": 32,
   "id": "1dd45648",
   "metadata": {},
   "outputs": [
    {
     "data": {
      "text/html": [
       "<div>\n",
       "<style scoped>\n",
       "    .dataframe tbody tr th:only-of-type {\n",
       "        vertical-align: middle;\n",
       "    }\n",
       "\n",
       "    .dataframe tbody tr th {\n",
       "        vertical-align: top;\n",
       "    }\n",
       "\n",
       "    .dataframe thead th {\n",
       "        text-align: right;\n",
       "    }\n",
       "</style>\n",
       "<table border=\"1\" class=\"dataframe\">\n",
       "  <thead>\n",
       "    <tr style=\"text-align: right;\">\n",
       "      <th></th>\n",
       "      <th>Year</th>\n",
       "      <th>Place_in_India</th>\n",
       "      <th>Level_4</th>\n",
       "    </tr>\n",
       "  </thead>\n",
       "  <tbody>\n",
       "    <tr>\n",
       "      <th>0</th>\n",
       "      <td>2020</td>\n",
       "      <td>Bengaluru</td>\n",
       "      <td>3231524</td>\n",
       "    </tr>\n",
       "    <tr>\n",
       "      <th>1</th>\n",
       "      <td>2020</td>\n",
       "      <td>Dehradun</td>\n",
       "      <td>3685750</td>\n",
       "    </tr>\n",
       "    <tr>\n",
       "      <th>2</th>\n",
       "      <td>2020</td>\n",
       "      <td>Hyderabad</td>\n",
       "      <td>5156066</td>\n",
       "    </tr>\n",
       "    <tr>\n",
       "      <th>3</th>\n",
       "      <td>2020</td>\n",
       "      <td>Indore</td>\n",
       "      <td>20092071</td>\n",
       "    </tr>\n",
       "    <tr>\n",
       "      <th>4</th>\n",
       "      <td>2020</td>\n",
       "      <td>Pune</td>\n",
       "      <td>11039977</td>\n",
       "    </tr>\n",
       "    <tr>\n",
       "      <th>5</th>\n",
       "      <td>2021</td>\n",
       "      <td>Bengaluru</td>\n",
       "      <td>3140030</td>\n",
       "    </tr>\n",
       "    <tr>\n",
       "      <th>6</th>\n",
       "      <td>2021</td>\n",
       "      <td>Dehradun</td>\n",
       "      <td>2445091</td>\n",
       "    </tr>\n",
       "    <tr>\n",
       "      <th>7</th>\n",
       "      <td>2021</td>\n",
       "      <td>Hyderabad</td>\n",
       "      <td>7836311</td>\n",
       "    </tr>\n",
       "    <tr>\n",
       "      <th>8</th>\n",
       "      <td>2021</td>\n",
       "      <td>Indore</td>\n",
       "      <td>17533698</td>\n",
       "    </tr>\n",
       "    <tr>\n",
       "      <th>9</th>\n",
       "      <td>2021</td>\n",
       "      <td>Pune</td>\n",
       "      <td>12805835</td>\n",
       "    </tr>\n",
       "    <tr>\n",
       "      <th>10</th>\n",
       "      <td>2022</td>\n",
       "      <td>Bengaluru</td>\n",
       "      <td>3752706</td>\n",
       "    </tr>\n",
       "    <tr>\n",
       "      <th>11</th>\n",
       "      <td>2022</td>\n",
       "      <td>Dehradun</td>\n",
       "      <td>2673864</td>\n",
       "    </tr>\n",
       "    <tr>\n",
       "      <th>12</th>\n",
       "      <td>2022</td>\n",
       "      <td>Hyderabad</td>\n",
       "      <td>8211936</td>\n",
       "    </tr>\n",
       "    <tr>\n",
       "      <th>13</th>\n",
       "      <td>2022</td>\n",
       "      <td>Indore</td>\n",
       "      <td>15104408</td>\n",
       "    </tr>\n",
       "    <tr>\n",
       "      <th>14</th>\n",
       "      <td>2022</td>\n",
       "      <td>Pune</td>\n",
       "      <td>11208722</td>\n",
       "    </tr>\n",
       "  </tbody>\n",
       "</table>\n",
       "</div>"
      ],
      "text/plain": [
       "    Year Place_in_India   Level_4\n",
       "0   2020      Bengaluru   3231524\n",
       "1   2020       Dehradun   3685750\n",
       "2   2020      Hyderabad   5156066\n",
       "3   2020         Indore  20092071\n",
       "4   2020           Pune  11039977\n",
       "5   2021      Bengaluru   3140030\n",
       "6   2021       Dehradun   2445091\n",
       "7   2021      Hyderabad   7836311\n",
       "8   2021         Indore  17533698\n",
       "9   2021           Pune  12805835\n",
       "10  2022      Bengaluru   3752706\n",
       "11  2022       Dehradun   2673864\n",
       "12  2022      Hyderabad   8211936\n",
       "13  2022         Indore  15104408\n",
       "14  2022           Pune  11208722"
      ]
     },
     "execution_count": 32,
     "metadata": {},
     "output_type": "execute_result"
    }
   ],
   "source": [
    "df_test"
   ]
  },
  {
   "cell_type": "markdown",
   "id": "9afaf514",
   "metadata": {},
   "source": [
    "# Part 5: Visualization"
   ]
  },
  {
   "cell_type": "markdown",
   "id": "41b17aca",
   "metadata": {},
   "source": [
    "A line graph for “Level 2” for the different “Place_in_India?” over the months of the year 2020 & 2021.\n",
    " (Hint: On x-axis, there should be months for 2020 & 2021 and Y axis should be “Level 2” and there should be different lines depicting different regions of  “Place_in_India?”)\n"
   ]
  },
  {
   "cell_type": "code",
   "execution_count": 33,
   "id": "fe42a4a9",
   "metadata": {},
   "outputs": [],
   "source": [
    "cleaned_df_agg = cleaned_df.groupby(['Date','Place_in_India'])['Level_2'].sum().reset_index()"
   ]
  },
  {
   "cell_type": "code",
   "execution_count": 34,
   "id": "01654b70",
   "metadata": {},
   "outputs": [
    {
     "data": {
      "image/png": "[encoded data removed]",
      "text/plain": [
       "<Figure size 432x288 with 1 Axes>"
      ]
     },
     "metadata": {
      "needs_background": "light"
     },
     "output_type": "display_data"
    }
   ],
   "source": [
    "Place_in_India = set(cleaned_df_agg['Place_in_India'])\n",
    "\n",
    "plt.figure()\n",
    "for Place in Place_in_India:\n",
    "    selected_data = cleaned_df_agg.loc[cleaned_df_agg['Place_in_India'] == Place]\n",
    "    plt.plot(selected_data['Date'], selected_data['Level_2'], label=Place)\n",
    "     \n",
    "plt.legend()\n",
    "plt.show()"
   ]
  },
  {
   "cell_type": "markdown",
   "id": "2d99eb02",
   "metadata": {},
   "source": [
    "⦁\tA line graph for “Level 1” for the different “Laptop/Desktop” over the months of the year 2020 & 2021. \n",
    " (Hint : On x axis there should be months from Jan- 2020 to Dec- 2021 and Y axis should be the sum of “Level 1” and there should be different lines depicting different devices used.)\n"
   ]
  },
  {
   "cell_type": "code",
   "execution_count": 35,
   "id": "4a87e218",
   "metadata": {},
   "outputs": [],
   "source": [
    "# TO DO "
   ]
  },
  {
   "cell_type": "markdown",
   "id": "1d6c2c1f",
   "metadata": {},
   "source": [
    "⦁\tA line graph for “Level 1”, “Level 4”  and “inc/dec percentage” columns over the months of the year 2020, 2021 & 2022."
   ]
  },
  {
   "cell_type": "code",
   "execution_count": 36,
   "id": "ae8dbe21",
   "metadata": {},
   "outputs": [
    {
     "name": "stderr",
     "output_type": "stream",
     "text": [
      "C:\\Users\\Sanjeev\\AppData\\Local\\Temp/ipykernel_9616/2558558590.py:1: FutureWarning: Indexing with multiple keys (implicitly converted to a tuple of keys) will be deprecated, use a list instead.\n",
      "  cleaned_df_agg_2 = cleaned_df.groupby('Date')['Level_1','Level_4','inc/dec percentage'].mean().reset_index()\n"
     ]
    }
   ],
   "source": [
    "cleaned_df_agg_2 = cleaned_df.groupby('Date')['Level_1','Level_4','inc/dec percentage'].mean().reset_index()"
   ]
  },
  {
   "cell_type": "code",
   "execution_count": 37,
   "id": "377afeec",
   "metadata": {},
   "outputs": [
    {
     "data": {
      "image/png": "[encoded data removed]",
      "text/plain": [
       "<Figure size 432x288 with 1 Axes>"
      ]
     },
     "metadata": {
      "needs_background": "light"
     },
     "output_type": "display_data"
    }
   ],
   "source": [
    "list1 = ['Level_1','Level_4','inc/dec percentage']\n",
    "\n",
    "plt.figure()\n",
    "for i in list1:\n",
    "    plt.plot(cleaned_df_agg_2['Date'], cleaned_df_agg_2[i], label=i)\n",
    "     \n",
    "plt.legend()\n",
    "plt.show()"
   ]
  },
  {
   "cell_type": "markdown",
   "id": "2f36fd27",
   "metadata": {},
   "source": [
    "⦁\tA line graph for “Level 3” and “Place_in_India” over the months of the year 2020 and 2021."
   ]
  },
  {
   "cell_type": "code",
   "execution_count": 38,
   "id": "6b2d2495",
   "metadata": {},
   "outputs": [],
   "source": [
    "# Same as above"
   ]
  },
  {
   "cell_type": "code",
   "execution_count": null,
   "id": "a7e50566",
   "metadata": {},
   "outputs": [],
   "source": []
  },
  {
   "cell_type": "code",
   "execution_count": null,
   "id": "4dce45df",
   "metadata": {},
   "outputs": [],
   "source": []
  },
  {
   "cell_type": "markdown",
   "id": "6232fe7f",
   "metadata": {},
   "source": [
    "⦁\tA well visualized bar graph showing the “Level 1” from various places in India , also, representing the type of customers, for the year 2022."
   ]
  },
  {
   "cell_type": "code",
   "execution_count": 39,
   "id": "14d77cbd",
   "metadata": {},
   "outputs": [],
   "source": [
    "cleaned_df_2020 = cleaned_df[cleaned_df['Year']==2020]"
   ]
  },
  {
   "cell_type": "code",
   "execution_count": 40,
   "id": "3de80071",
   "metadata": {},
   "outputs": [],
   "source": [
    "# Pivot Table\n",
    "cleaned_df_agg_3  = cleaned_df_2020.pivot_table(values = 'Level_1', index = 'Place_in_India', columns = 'Type_of_Customers',aggfunc='sum' )"
   ]
  },
  {
   "cell_type": "code",
   "execution_count": 41,
   "id": "58f99aad",
   "metadata": {},
   "outputs": [
    {
     "data": {
      "text/html": [
       "<div>\n",
       "<style scoped>\n",
       "    .dataframe tbody tr th:only-of-type {\n",
       "        vertical-align: middle;\n",
       "    }\n",
       "\n",
       "    .dataframe tbody tr th {\n",
       "        vertical-align: top;\n",
       "    }\n",
       "\n",
       "    .dataframe thead th {\n",
       "        text-align: right;\n",
       "    }\n",
       "</style>\n",
       "<table border=\"1\" class=\"dataframe\">\n",
       "  <thead>\n",
       "    <tr style=\"text-align: right;\">\n",
       "      <th>Type_of_Customers</th>\n",
       "      <th>Existing_Customer</th>\n",
       "      <th>New_Customer</th>\n",
       "    </tr>\n",
       "    <tr>\n",
       "      <th>Place_in_India</th>\n",
       "      <th></th>\n",
       "      <th></th>\n",
       "    </tr>\n",
       "  </thead>\n",
       "  <tbody>\n",
       "    <tr>\n",
       "      <th>Bengaluru</th>\n",
       "      <td>5.643866e+07</td>\n",
       "      <td>13302335.0</td>\n",
       "    </tr>\n",
       "    <tr>\n",
       "      <th>Dehradun</th>\n",
       "      <td>5.643866e+07</td>\n",
       "      <td>18618773.0</td>\n",
       "    </tr>\n",
       "    <tr>\n",
       "      <th>Hyderabad</th>\n",
       "      <td>5.643866e+07</td>\n",
       "      <td>21907018.0</td>\n",
       "    </tr>\n",
       "    <tr>\n",
       "      <th>Indore</th>\n",
       "      <td>5.643866e+07</td>\n",
       "      <td>75183810.0</td>\n",
       "    </tr>\n",
       "    <tr>\n",
       "      <th>Pune</th>\n",
       "      <td>5.576402e+07</td>\n",
       "      <td>58736981.0</td>\n",
       "    </tr>\n",
       "  </tbody>\n",
       "</table>\n",
       "</div>"
      ],
      "text/plain": [
       "Type_of_Customers  Existing_Customer  New_Customer\n",
       "Place_in_India                                    \n",
       "Bengaluru               5.643866e+07    13302335.0\n",
       "Dehradun                5.643866e+07    18618773.0\n",
       "Hyderabad               5.643866e+07    21907018.0\n",
       "Indore                  5.643866e+07    75183810.0\n",
       "Pune                    5.576402e+07    58736981.0"
      ]
     },
     "execution_count": 41,
     "metadata": {},
     "output_type": "execute_result"
    }
   ],
   "source": [
    "cleaned_df_agg_3"
   ]
  },
  {
   "cell_type": "code",
   "execution_count": 42,
   "id": "70c507e0",
   "metadata": {},
   "outputs": [
    {
     "data": {
      "text/html": [
       "<div>\n",
       "<style scoped>\n",
       "    .dataframe tbody tr th:only-of-type {\n",
       "        vertical-align: middle;\n",
       "    }\n",
       "\n",
       "    .dataframe tbody tr th {\n",
       "        vertical-align: top;\n",
       "    }\n",
       "\n",
       "    .dataframe thead th {\n",
       "        text-align: right;\n",
       "    }\n",
       "</style>\n",
       "<table border=\"1\" class=\"dataframe\">\n",
       "  <thead>\n",
       "    <tr style=\"text-align: right;\">\n",
       "      <th></th>\n",
       "      <th>Year</th>\n",
       "      <th>Month</th>\n",
       "      <th>Laptop/Desktop</th>\n",
       "      <th>Type_of_Customers</th>\n",
       "      <th>Coming from</th>\n",
       "      <th>Place_in_India</th>\n",
       "      <th>Level_1</th>\n",
       "      <th>Level_2</th>\n",
       "      <th>Level_3</th>\n",
       "      <th>Level_4</th>\n",
       "      <th>inc/dec percentage</th>\n",
       "      <th>Date</th>\n",
       "    </tr>\n",
       "  </thead>\n",
       "  <tbody>\n",
       "    <tr>\n",
       "      <th>0</th>\n",
       "      <td>2020</td>\n",
       "      <td>January</td>\n",
       "      <td>Desktop_Website</td>\n",
       "      <td>Existing_Customer</td>\n",
       "      <td>From LinkedIn</td>\n",
       "      <td>Bengaluru</td>\n",
       "      <td>783870.222017</td>\n",
       "      <td>358215.416281</td>\n",
       "      <td>56892</td>\n",
       "      <td>17178</td>\n",
       "      <td>85.886489</td>\n",
       "      <td>2020-01-01</td>\n",
       "    </tr>\n",
       "    <tr>\n",
       "      <th>1</th>\n",
       "      <td>2020</td>\n",
       "      <td>January</td>\n",
       "      <td>Desktop_Website</td>\n",
       "      <td>Existing_Customer</td>\n",
       "      <td>From LinkedIn</td>\n",
       "      <td>Hyderabad</td>\n",
       "      <td>783870.222017</td>\n",
       "      <td>358215.416281</td>\n",
       "      <td>41460</td>\n",
       "      <td>11916</td>\n",
       "      <td>85.886489</td>\n",
       "      <td>2020-01-01</td>\n",
       "    </tr>\n",
       "    <tr>\n",
       "      <th>2</th>\n",
       "      <td>2020</td>\n",
       "      <td>January</td>\n",
       "      <td>Desktop_Website</td>\n",
       "      <td>Existing_Customer</td>\n",
       "      <td>From LinkedIn</td>\n",
       "      <td>Dehradun</td>\n",
       "      <td>783870.222017</td>\n",
       "      <td>358215.416281</td>\n",
       "      <td>55561</td>\n",
       "      <td>19461</td>\n",
       "      <td>85.886489</td>\n",
       "      <td>2020-01-01</td>\n",
       "    </tr>\n",
       "    <tr>\n",
       "      <th>3</th>\n",
       "      <td>2020</td>\n",
       "      <td>January</td>\n",
       "      <td>Desktop_Website</td>\n",
       "      <td>Existing_Customer</td>\n",
       "      <td>From LinkedIn</td>\n",
       "      <td>Indore</td>\n",
       "      <td>783870.222017</td>\n",
       "      <td>358215.416281</td>\n",
       "      <td>320923</td>\n",
       "      <td>110667</td>\n",
       "      <td>85.886489</td>\n",
       "      <td>2020-01-01</td>\n",
       "    </tr>\n",
       "    <tr>\n",
       "      <th>4</th>\n",
       "      <td>2020</td>\n",
       "      <td>January</td>\n",
       "      <td>Desktop_Website</td>\n",
       "      <td>Existing_Customer</td>\n",
       "      <td>From LinkedIn</td>\n",
       "      <td>Pune</td>\n",
       "      <td>783870.222017</td>\n",
       "      <td>358215.416281</td>\n",
       "      <td>220937</td>\n",
       "      <td>46033</td>\n",
       "      <td>85.886489</td>\n",
       "      <td>2020-01-01</td>\n",
       "    </tr>\n",
       "    <tr>\n",
       "      <th>...</th>\n",
       "      <td>...</td>\n",
       "      <td>...</td>\n",
       "      <td>...</td>\n",
       "      <td>...</td>\n",
       "      <td>...</td>\n",
       "      <td>...</td>\n",
       "      <td>...</td>\n",
       "      <td>...</td>\n",
       "      <td>...</td>\n",
       "      <td>...</td>\n",
       "      <td>...</td>\n",
       "      <td>...</td>\n",
       "    </tr>\n",
       "    <tr>\n",
       "      <th>715</th>\n",
       "      <td>2020</td>\n",
       "      <td>December</td>\n",
       "      <td>Laptop_Website</td>\n",
       "      <td>New_Customer</td>\n",
       "      <td>Unidentified_Sources</td>\n",
       "      <td>Bengaluru</td>\n",
       "      <td>64621.000000</td>\n",
       "      <td>37389.000000</td>\n",
       "      <td>9755</td>\n",
       "      <td>4784</td>\n",
       "      <td>92.596834</td>\n",
       "      <td>2020-12-01</td>\n",
       "    </tr>\n",
       "    <tr>\n",
       "      <th>716</th>\n",
       "      <td>2020</td>\n",
       "      <td>December</td>\n",
       "      <td>Laptop_Website</td>\n",
       "      <td>New_Customer</td>\n",
       "      <td>Unidentified_Sources</td>\n",
       "      <td>Hyderabad</td>\n",
       "      <td>177018.000000</td>\n",
       "      <td>123778.000000</td>\n",
       "      <td>37520</td>\n",
       "      <td>16502</td>\n",
       "      <td>90.677784</td>\n",
       "      <td>2020-12-01</td>\n",
       "    </tr>\n",
       "    <tr>\n",
       "      <th>717</th>\n",
       "      <td>2020</td>\n",
       "      <td>December</td>\n",
       "      <td>Laptop_Website</td>\n",
       "      <td>New_Customer</td>\n",
       "      <td>Unidentified_Sources</td>\n",
       "      <td>Dehradun</td>\n",
       "      <td>76343.000000</td>\n",
       "      <td>56429.000000</td>\n",
       "      <td>14623</td>\n",
       "      <td>8676</td>\n",
       "      <td>88.635500</td>\n",
       "      <td>2020-12-01</td>\n",
       "    </tr>\n",
       "    <tr>\n",
       "      <th>718</th>\n",
       "      <td>2020</td>\n",
       "      <td>December</td>\n",
       "      <td>Laptop_Website</td>\n",
       "      <td>New_Customer</td>\n",
       "      <td>Unidentified_Sources</td>\n",
       "      <td>Indore</td>\n",
       "      <td>530446.000000</td>\n",
       "      <td>309159.000000</td>\n",
       "      <td>156611</td>\n",
       "      <td>49842</td>\n",
       "      <td>90.603756</td>\n",
       "      <td>2020-12-01</td>\n",
       "    </tr>\n",
       "    <tr>\n",
       "      <th>719</th>\n",
       "      <td>2020</td>\n",
       "      <td>December</td>\n",
       "      <td>Laptop_Website</td>\n",
       "      <td>New_Customer</td>\n",
       "      <td>Unidentified_Sources</td>\n",
       "      <td>Pune</td>\n",
       "      <td>408904.000000</td>\n",
       "      <td>169831.000000</td>\n",
       "      <td>49745</td>\n",
       "      <td>26268</td>\n",
       "      <td>93.575998</td>\n",
       "      <td>2020-12-01</td>\n",
       "    </tr>\n",
       "  </tbody>\n",
       "</table>\n",
       "<p>720 rows × 12 columns</p>\n",
       "</div>"
      ],
      "text/plain": [
       "     Year     Month   Laptop/Desktop  Type_of_Customers           Coming from  \\\n",
       "0    2020   January  Desktop_Website  Existing_Customer         From LinkedIn   \n",
       "1    2020   January  Desktop_Website  Existing_Customer         From LinkedIn   \n",
       "2    2020   January  Desktop_Website  Existing_Customer         From LinkedIn   \n",
       "3    2020   January  Desktop_Website  Existing_Customer         From LinkedIn   \n",
       "4    2020   January  Desktop_Website  Existing_Customer         From LinkedIn   \n",
       "..    ...       ...              ...                ...                   ...   \n",
       "715  2020  December   Laptop_Website       New_Customer  Unidentified_Sources   \n",
       "716  2020  December   Laptop_Website       New_Customer  Unidentified_Sources   \n",
       "717  2020  December   Laptop_Website       New_Customer  Unidentified_Sources   \n",
       "718  2020  December   Laptop_Website       New_Customer  Unidentified_Sources   \n",
       "719  2020  December   Laptop_Website       New_Customer  Unidentified_Sources   \n",
       "\n",
       "    Place_in_India        Level_1        Level_2  Level_3  Level_4  \\\n",
       "0        Bengaluru  783870.222017  358215.416281    56892    17178   \n",
       "1        Hyderabad  783870.222017  358215.416281    41460    11916   \n",
       "2         Dehradun  783870.222017  358215.416281    55561    19461   \n",
       "3           Indore  783870.222017  358215.416281   320923   110667   \n",
       "4             Pune  783870.222017  358215.416281   220937    46033   \n",
       "..             ...            ...            ...      ...      ...   \n",
       "715      Bengaluru   64621.000000   37389.000000     9755     4784   \n",
       "716      Hyderabad  177018.000000  123778.000000    37520    16502   \n",
       "717       Dehradun   76343.000000   56429.000000    14623     8676   \n",
       "718         Indore  530446.000000  309159.000000   156611    49842   \n",
       "719           Pune  408904.000000  169831.000000    49745    26268   \n",
       "\n",
       "     inc/dec percentage       Date  \n",
       "0             85.886489 2020-01-01  \n",
       "1             85.886489 2020-01-01  \n",
       "2             85.886489 2020-01-01  \n",
       "3             85.886489 2020-01-01  \n",
       "4             85.886489 2020-01-01  \n",
       "..                  ...        ...  \n",
       "715           92.596834 2020-12-01  \n",
       "716           90.677784 2020-12-01  \n",
       "717           88.635500 2020-12-01  \n",
       "718           90.603756 2020-12-01  \n",
       "719           93.575998 2020-12-01  \n",
       "\n",
       "[720 rows x 12 columns]"
      ]
     },
     "execution_count": 42,
     "metadata": {},
     "output_type": "execute_result"
    }
   ],
   "source": [
    "cleaned_df_2020"
   ]
  },
  {
   "cell_type": "code",
   "execution_count": 43,
   "id": "2a710213",
   "metadata": {},
   "outputs": [],
   "source": [
    "cleaned_df_agg_3 = cleaned_df_agg_3.reset_index()"
   ]
  },
  {
   "cell_type": "code",
   "execution_count": 44,
   "id": "736d2f78",
   "metadata": {},
   "outputs": [
    {
     "data": {
      "text/html": [
       "<div>\n",
       "<style scoped>\n",
       "    .dataframe tbody tr th:only-of-type {\n",
       "        vertical-align: middle;\n",
       "    }\n",
       "\n",
       "    .dataframe tbody tr th {\n",
       "        vertical-align: top;\n",
       "    }\n",
       "\n",
       "    .dataframe thead th {\n",
       "        text-align: right;\n",
       "    }\n",
       "</style>\n",
       "<table border=\"1\" class=\"dataframe\">\n",
       "  <thead>\n",
       "    <tr style=\"text-align: right;\">\n",
       "      <th>Type_of_Customers</th>\n",
       "      <th>Place_in_India</th>\n",
       "      <th>Existing_Customer</th>\n",
       "      <th>New_Customer</th>\n",
       "    </tr>\n",
       "  </thead>\n",
       "  <tbody>\n",
       "    <tr>\n",
       "      <th>0</th>\n",
       "      <td>Bengaluru</td>\n",
       "      <td>5.643866e+07</td>\n",
       "      <td>13302335.0</td>\n",
       "    </tr>\n",
       "    <tr>\n",
       "      <th>1</th>\n",
       "      <td>Dehradun</td>\n",
       "      <td>5.643866e+07</td>\n",
       "      <td>18618773.0</td>\n",
       "    </tr>\n",
       "    <tr>\n",
       "      <th>2</th>\n",
       "      <td>Hyderabad</td>\n",
       "      <td>5.643866e+07</td>\n",
       "      <td>21907018.0</td>\n",
       "    </tr>\n",
       "    <tr>\n",
       "      <th>3</th>\n",
       "      <td>Indore</td>\n",
       "      <td>5.643866e+07</td>\n",
       "      <td>75183810.0</td>\n",
       "    </tr>\n",
       "    <tr>\n",
       "      <th>4</th>\n",
       "      <td>Pune</td>\n",
       "      <td>5.576402e+07</td>\n",
       "      <td>58736981.0</td>\n",
       "    </tr>\n",
       "  </tbody>\n",
       "</table>\n",
       "</div>"
      ],
      "text/plain": [
       "Type_of_Customers Place_in_India  Existing_Customer  New_Customer\n",
       "0                      Bengaluru       5.643866e+07    13302335.0\n",
       "1                       Dehradun       5.643866e+07    18618773.0\n",
       "2                      Hyderabad       5.643866e+07    21907018.0\n",
       "3                         Indore       5.643866e+07    75183810.0\n",
       "4                           Pune       5.576402e+07    58736981.0"
      ]
     },
     "execution_count": 44,
     "metadata": {},
     "output_type": "execute_result"
    }
   ],
   "source": [
    "cleaned_df_agg_3"
   ]
  },
  {
   "cell_type": "code",
   "execution_count": 45,
   "id": "2c9e545f",
   "metadata": {},
   "outputs": [
    {
     "data": {
      "image/png": "[encoded data removed]",
      "text/plain": [
       "<Figure size 432x288 with 1 Axes>"
      ]
     },
     "metadata": {
      "needs_background": "light"
     },
     "output_type": "display_data"
    }
   ],
   "source": [
    "# plot data in stack manner of bar type\n",
    "cleaned_df_agg_3.plot(x='Place_in_India', kind='bar', stacked=True,\n",
    "        title='Stacked Bar Graph by dataframe')\n",
    "plt.show()"
   ]
  },
  {
   "cell_type": "code",
   "execution_count": 50,
   "id": "a550a0e6",
   "metadata": {},
   "outputs": [
    {
     "data": {
      "image/png": "[encoded data removed]",
      "text/plain": [
       "<Figure size 432x288 with 1 Axes>"
      ]
     },
     "metadata": {
      "needs_background": "light"
     },
     "output_type": "display_data"
    }
   ],
   "source": [
    "# plot data in un-stack manner of bar type\n",
    "cleaned_df_agg_3.plot(x='Place_in_India', kind='bar', stacked=False,\n",
    "        title='Stacked Bar Graph by dataframe')\n",
    "plt.show()"
   ]
  },
  {
   "cell_type": "code",
   "execution_count": 61,
   "id": "9c636d10",
   "metadata": {},
   "outputs": [],
   "source": [
    "# Cross Check "
   ]
  },
  {
   "cell_type": "code",
   "execution_count": 55,
   "id": "5e2bd203",
   "metadata": {},
   "outputs": [
    {
     "data": {
      "text/plain": [
       "56438655.98519889"
      ]
     },
     "execution_count": 55,
     "metadata": {},
     "output_type": "execute_result"
    }
   ],
   "source": [
    "cleaned_df_2020[(cleaned_df_2020['Place_in_India']=='Bengaluru') & (cleaned_df_2020['Type_of_Customers']=='Existing_Customer')]['Level_1'].sum()"
   ]
  },
  {
   "cell_type": "code",
   "execution_count": 60,
   "id": "b6258ec5",
   "metadata": {},
   "outputs": [
    {
     "data": {
      "text/plain": [
       "56438655.98519889"
      ]
     },
     "execution_count": 60,
     "metadata": {},
     "output_type": "execute_result"
    }
   ],
   "source": [
    "cleaned_df_2020[(cleaned_df_2020['Place_in_India']=='Indore') & (cleaned_df_2020['Type_of_Customers']=='Existing_Customer')]['Level_1'].sum()"
   ]
  },
  {
   "cell_type": "code",
   "execution_count": null,
   "id": "02d88cd4",
   "metadata": {},
   "outputs": [],
   "source": []
  }
 ],
 "metadata": {
  "kernelspec": {
   "display_name": "Python 3 (ipykernel)",
   "language": "python",
   "name": "python3"
  },
  "language_info": {
   "codemirror_mode": {
    "name": "ipython",
    "version": 3
   },
   "file_extension": ".py",
   "mimetype": "text/x-python",
   "name": "python",
   "nbconvert_exporter": "python",
   "pygments_lexer": "ipython3",
   "version": "3.9.7"
  }
 },
 "nbformat": 4,
 "nbformat_minor": 5
}
